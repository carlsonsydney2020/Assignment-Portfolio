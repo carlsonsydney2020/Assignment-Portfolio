{
  "nbformat": 4,
  "nbformat_minor": 0,
  "metadata": {
    "colab": {
      "provenance": []
    },
    "kernelspec": {
      "name": "python3",
      "display_name": "Python 3"
    },
    "language_info": {
      "name": "python"
    }
  },
  "cells": [
    {
      "cell_type": "markdown",
      "metadata": {
        "id": "5AZfR_omqlDv"
      },
      "source": [
        "The following is the markdown syntax used to create the README file on the [example GitHub repository](https://github.com/alexanderresearch/Analytics). You can be creative in terms of the format and content of the README file (e.g., add more sections and some figures), but it must include the following elements at a minimum:\n",
        "\n",
        "1. A brief introduction of what this portfolio is about.\n",
        "2. A clickable URL link to the markdown CV you created in Assignment 1.\n",
        "3. A table of contents of assignments you have completed, with links to the Jupyter Notebooks of some assignments (at least 1)."
      ]
    },
    {
      "cell_type": "markdown",
      "metadata": {
        "id": "OHyAYOWNp68G"
      },
      "source": [
        "# Data Analytics Portfolio\n",
        "This is the portfolio of all class assignments I have completed in Data Analytics.\n",
        "\n",
        "## My Résumé\n",
        "- [Résumé](https://colab.research.google.com/drive/1djIQeH6exjcUyuSIOvTw56Odx3zTX4kh?usp=sharing)\n",
        "\n",
        "## Table of Contents\n",
        "1. **Module 1: Using Colab**\n",
        "   - [A1: Markdown CV](https://colab.research.google.com/drive/1djIQeH6exjcUyuSIOvTw56Odx3zTX4kh?usp=sharing)\n",
        "   \n",
        "2. **Module 2: Fundamentals of Programming for Data Analysis**\n",
        "   - [A2 Programming Fundamentals](https://colab.research.google.com/drive/1qjw5kXeW1r8jQzwUHlmOzr4weYCNW3fm?usp=sharing)\n",
        "   \n",
        "3. **Module 3: Working with Data**\n",
        "   - [A3 Work with data Yelp Reviews](https://colab.research.google.com/drive/19TpIw0L_YItEfuzFhx1yw1J0rLhdg2_X?usp=sharing)\n",
        "  \n",
        "4. **Module 4: Stats review**\n",
        "   - [A4 Hypothesis testing - FB ads and Starbucks promos](https://colab.research.google.com/drive/1Ps6xXL7ik2TIkyYSgjuOSGCccSs4Mn3Z?usp=sharing)\n",
        "\n",
        "5. **Module 5: Regression**\n",
        "   - [A5 Regression Analysis](https://colab.research.google.com/drive/1eKTz-QoSu2bxKXqYSWavjMCaAeS3wOMS?usp=sharing)\n",
        "\n",
        "6. **Module 6: Clustering and Segmentation**\n",
        "   - [A6 Segmentation](https://colab.research.google.com/drive/1OCoCfZtYFCR8Kn-g0RzAStGiza0dmEKd?usp=sharing)\n",
        "   \n",
        "7. **Module 7: Use GitHub to Create Your Assignment Portfolio**\n",
        "    - [A7 List Your Data Analytics Skills](https://github.com/carlsonsydney2020/Assignment-Portfolio)\n",
        "  \n",
        "\n"
      ]
    }
  ]
}